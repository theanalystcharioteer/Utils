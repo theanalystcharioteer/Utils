import pandas as pd
import sys

PATH_HOME_DIR = '/Users/username/.../parent_folder/'
sys.path.insert(0, PATH_HOME_DIR)

from util_modules.utils import Constants, time_it, write_data_to_file

print(Constants.QUANTILES)
