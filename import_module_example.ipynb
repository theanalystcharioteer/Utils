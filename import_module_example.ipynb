{
 "cells": [
  {
   "cell_type": "code",
   "execution_count": null,
   "id": "e36cbdcc-aca7-4785-8bb7-69dc04d8ee96",
   "metadata": {},
   "outputs": [],
   "source": [
    "import pandas as pd\n",
    "import numpy as np\n",
    "import re\n",
    "from datetime import datetime"
   ]
  },
  {
   "cell_type": "code",
   "execution_count": null,
   "id": "849db57b-4378-4025-94ed-fd6cc920b0ad",
   "metadata": {},
   "outputs": [],
   "source": [
    "import sys"
   ]
  },
  {
   "cell_type": "code",
   "execution_count": null,
   "id": "f93069aa-158e-467d-afae-b3a903a25317",
   "metadata": {},
   "outputs": [],
   "source": [
    "PATH_HOME_DIR = '/Users/username/.../parent_folder/'\n",
    "PATH_HOME_DIR"
   ]
  },
  {
   "cell_type": "code",
   "execution_count": null,
   "id": "f9eadf3b-e1cd-4fb9-a69c-a463c4f22428",
   "metadata": {},
   "outputs": [],
   "source": [
    "sys.path.insert(0, PATH_HOME_DIR)"
   ]
  },
  {
   "cell_type": "code",
   "execution_count": null,
   "id": "cce75bee-bb69-499f-bff8-1ed12681c361",
   "metadata": {},
   "outputs": [],
   "source": [
    "from util_modules.utils import Constants, time_it, write_data_to_file"
   ]
  },
  {
   "cell_type": "code",
   "execution_count": null,
   "id": "9aebd985-268a-468c-b647-a19bc044bd74",
   "metadata": {},
   "outputs": [],
   "source": [
    "print(Constants.QUANTILES)"
   ]
  }
 ],
 "metadata": {
  "kernelspec": {
   "display_name": "brand_loyalty_kernel",
   "language": "python",
   "name": "brand_loyalty"
  },
  "language_info": {
   "codemirror_mode": {
    "name": "ipython",
    "version": 3
   },
   "file_extension": ".py",
   "mimetype": "text/x-python",
   "name": "python",
   "nbconvert_exporter": "python",
   "pygments_lexer": "ipython3",
   "version": "3.11.4"
  }
 },
 "nbformat": 4,
 "nbformat_minor": 5
}
